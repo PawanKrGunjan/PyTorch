{
 "cells": [
  {
   "cell_type": "markdown",
   "id": "b6bf7732",
   "metadata": {
    "papermill": {
     "duration": 0.008021,
     "end_time": "2023-01-26T15:18:27.847422",
     "exception": false,
     "start_time": "2023-01-26T15:18:27.839401",
     "status": "completed"
    },
    "tags": []
   },
   "source": [
    "## Import the necessary libraries"
   ]
  },
  {
   "cell_type": "code",
   "execution_count": 1,
   "id": "c2646545",
   "metadata": {
    "execution": {
     "iopub.execute_input": "2023-01-26T15:18:27.864902Z",
     "iopub.status.busy": "2023-01-26T15:18:27.863967Z",
     "iopub.status.idle": "2023-01-26T15:18:30.363077Z",
     "shell.execute_reply": "2023-01-26T15:18:30.361485Z"
    },
    "papermill": {
     "duration": 2.511983,
     "end_time": "2023-01-26T15:18:30.366883",
     "exception": false,
     "start_time": "2023-01-26T15:18:27.854900",
     "status": "completed"
    },
    "tags": []
   },
   "outputs": [],
   "source": [
    "import numpy as np\n",
    "from scipy.linalg import lstsq\n",
    "import torch"
   ]
  },
  {
   "cell_type": "raw",
   "id": "64298aea",
   "metadata": {
    "papermill": {
     "duration": 0.006545,
     "end_time": "2023-01-26T15:18:30.380442",
     "exception": false,
     "start_time": "2023-01-26T15:18:30.373897",
     "status": "completed"
    },
    "tags": []
   },
   "source": [
    "Equation\n",
    "Ax =b"
   ]
  },
  {
   "cell_type": "code",
   "execution_count": 2,
   "id": "2890d70e",
   "metadata": {
    "execution": {
     "iopub.execute_input": "2023-01-26T15:18:30.397054Z",
     "iopub.status.busy": "2023-01-26T15:18:30.395922Z",
     "iopub.status.idle": "2023-01-26T15:18:30.402863Z",
     "shell.execute_reply": "2023-01-26T15:18:30.401755Z"
    },
    "papermill": {
     "duration": 0.018337,
     "end_time": "2023-01-26T15:18:30.405481",
     "exception": false,
     "start_time": "2023-01-26T15:18:30.387144",
     "status": "completed"
    },
    "tags": []
   },
   "outputs": [],
   "source": [
    "A = np.array([\n",
    "    [1,5,3],\n",
    "    [2,8,6],\n",
    "    [4,9,7]\n",
    "])\n",
    "\n",
    "b = np.array([\n",
    "    [10],\n",
    "    [12],\n",
    "    [6]\n",
    "])"
   ]
  },
  {
   "cell_type": "code",
   "execution_count": 3,
   "id": "16c68019",
   "metadata": {
    "execution": {
     "iopub.execute_input": "2023-01-26T15:18:30.422526Z",
     "iopub.status.busy": "2023-01-26T15:18:30.421757Z",
     "iopub.status.idle": "2023-01-26T15:18:30.436545Z",
     "shell.execute_reply": "2023-01-26T15:18:30.435280Z"
    },
    "papermill": {
     "duration": 0.027455,
     "end_time": "2023-01-26T15:18:30.439944",
     "exception": false,
     "start_time": "2023-01-26T15:18:30.412489",
     "status": "completed"
    },
    "tags": []
   },
   "outputs": [
    {
     "data": {
      "text/plain": [
       "array([[-4.],\n",
       "       [ 4.],\n",
       "       [-2.]])"
      ]
     },
     "execution_count": 3,
     "metadata": {},
     "output_type": "execute_result"
    }
   ],
   "source": [
    "x = np.linalg.solve(A,b)\n",
    "x"
   ]
  },
  {
   "cell_type": "code",
   "execution_count": 4,
   "id": "a512aa23",
   "metadata": {
    "execution": {
     "iopub.execute_input": "2023-01-26T15:18:30.457307Z",
     "iopub.status.busy": "2023-01-26T15:18:30.456775Z",
     "iopub.status.idle": "2023-01-26T15:18:30.465852Z",
     "shell.execute_reply": "2023-01-26T15:18:30.464863Z"
    },
    "papermill": {
     "duration": 0.020308,
     "end_time": "2023-01-26T15:18:30.468125",
     "exception": false,
     "start_time": "2023-01-26T15:18:30.447817",
     "status": "completed"
    },
    "tags": []
   },
   "outputs": [
    {
     "data": {
      "text/plain": [
       "array([[ True],\n",
       "       [ True],\n",
       "       [ True]])"
      ]
     },
     "execution_count": 4,
     "metadata": {},
     "output_type": "execute_result"
    }
   ],
   "source": [
    "# Check Ax = b\n",
    "# Matrix Product\n",
    "b == np.matmul(A,x)"
   ]
  },
  {
   "cell_type": "markdown",
   "id": "5cfdee19",
   "metadata": {
    "papermill": {
     "duration": 0.006903,
     "end_time": "2023-01-26T15:18:30.482854",
     "exception": false,
     "start_time": "2023-01-26T15:18:30.475951",
     "status": "completed"
    },
    "tags": []
   },
   "source": [
    "## Overdetermined System"
   ]
  },
  {
   "cell_type": "code",
   "execution_count": 5,
   "id": "39e0d373",
   "metadata": {
    "execution": {
     "iopub.execute_input": "2023-01-26T15:18:30.500544Z",
     "iopub.status.busy": "2023-01-26T15:18:30.499096Z",
     "iopub.status.idle": "2023-01-26T15:18:30.506872Z",
     "shell.execute_reply": "2023-01-26T15:18:30.505823Z"
    },
    "papermill": {
     "duration": 0.019222,
     "end_time": "2023-01-26T15:18:30.509509",
     "exception": false,
     "start_time": "2023-01-26T15:18:30.490287",
     "status": "completed"
    },
    "tags": []
   },
   "outputs": [],
   "source": [
    "A = np.array([\n",
    "    [1,  2,  3],\n",
    "    [4,  5,  6],\n",
    "    [7,  8,  9],\n",
    "    [10, 11, 12],\n",
    "    [13, 14, 15],\n",
    "    [16, 17, 18],\n",
    "    [19, 20, 21]\n",
    "])\n",
    "\n",
    "b = np.array([\n",
    "    [5],\n",
    "    [7],\n",
    "    [11],\n",
    "    [13],\n",
    "    [17],\n",
    "    [19],\n",
    "    [23]\n",
    "])\n",
    "b = np.array([5,7,11,13,17,19,23])"
   ]
  },
  {
   "cell_type": "code",
   "execution_count": 6,
   "id": "f0a401f5",
   "metadata": {
    "execution": {
     "iopub.execute_input": "2023-01-26T15:18:30.527999Z",
     "iopub.status.busy": "2023-01-26T15:18:30.526973Z",
     "iopub.status.idle": "2023-01-26T15:18:30.552071Z",
     "shell.execute_reply": "2023-01-26T15:18:30.550953Z"
    },
    "papermill": {
     "duration": 0.036754,
     "end_time": "2023-01-26T15:18:30.554992",
     "exception": false,
     "start_time": "2023-01-26T15:18:30.518238",
     "status": "completed"
    },
    "tags": []
   },
   "outputs": [
    {
     "data": {
      "text/plain": [
       "(array([-0.95238095,  0.33333333,  1.61904762]),\n",
       " array([], dtype=float64),\n",
       " 2,\n",
       " array([5.75134792e+01, 1.78877318e+00, 3.10802681e-15]))"
      ]
     },
     "execution_count": 6,
     "metadata": {},
     "output_type": "execute_result"
    }
   ],
   "source": [
    "# With Numpy\n",
    "# Using least square\n",
    "result = np.linalg.lstsq(A,b, rcond=None)\n",
    "x,residuals,rank,singular_values = result\n",
    "result"
   ]
  },
  {
   "cell_type": "code",
   "execution_count": 7,
   "id": "a879c3e6",
   "metadata": {
    "execution": {
     "iopub.execute_input": "2023-01-26T15:18:30.573656Z",
     "iopub.status.busy": "2023-01-26T15:18:30.572474Z",
     "iopub.status.idle": "2023-01-26T15:18:30.599622Z",
     "shell.execute_reply": "2023-01-26T15:18:30.598626Z"
    },
    "papermill": {
     "duration": 0.038713,
     "end_time": "2023-01-26T15:18:30.602052",
     "exception": false,
     "start_time": "2023-01-26T15:18:30.563339",
     "status": "completed"
    },
    "tags": []
   },
   "outputs": [
    {
     "data": {
      "text/plain": [
       "(array([-0.95238095,  0.33333333,  1.61904762]),\n",
       " array([], dtype=float64),\n",
       " 2,\n",
       " array([5.75134792e+01, 1.78877318e+00, 3.10802681e-15]))"
      ]
     },
     "execution_count": 7,
     "metadata": {},
     "output_type": "execute_result"
    }
   ],
   "source": [
    "# With Scipy\n",
    "result = lstsq(A,b)\n",
    "x,residuals,rank,singular_values = result\n",
    "result"
   ]
  },
  {
   "cell_type": "code",
   "execution_count": 8,
   "id": "77b076d5",
   "metadata": {
    "execution": {
     "iopub.execute_input": "2023-01-26T15:18:30.620535Z",
     "iopub.status.busy": "2023-01-26T15:18:30.619790Z",
     "iopub.status.idle": "2023-01-26T15:18:30.683171Z",
     "shell.execute_reply": "2023-01-26T15:18:30.681902Z"
    },
    "papermill": {
     "duration": 0.07564,
     "end_time": "2023-01-26T15:18:30.685738",
     "exception": false,
     "start_time": "2023-01-26T15:18:30.610098",
     "status": "completed"
    },
    "tags": []
   },
   "outputs": [
    {
     "data": {
      "text/plain": [
       "torch.return_types.linalg_lstsq(\n",
       "solution=tensor([-0.9524,  0.3333,  1.6190]),\n",
       "residuals=tensor([]),\n",
       "rank=tensor(2),\n",
       "singular_values=tensor([5.7513e+01, 1.7888e+00, 1.4175e-06]))"
      ]
     },
     "execution_count": 8,
     "metadata": {},
     "output_type": "execute_result"
    }
   ],
   "source": [
    "# With PyTorch\n",
    "a = torch.tensor(A, dtype=torch.float)\n",
    "b = torch.tensor(b, dtype=torch.float)\n",
    "\n",
    "result  = torch.linalg.lstsq(a, b, driver='gelsd') #.solution\n",
    "x,residuals,rank,singular_values = result\n",
    "result"
   ]
  },
  {
   "cell_type": "code",
   "execution_count": 9,
   "id": "915c9075",
   "metadata": {
    "execution": {
     "iopub.execute_input": "2023-01-26T15:18:30.703835Z",
     "iopub.status.busy": "2023-01-26T15:18:30.702924Z",
     "iopub.status.idle": "2023-01-26T15:18:30.725470Z",
     "shell.execute_reply": "2023-01-26T15:18:30.724082Z"
    },
    "papermill": {
     "duration": 0.034621,
     "end_time": "2023-01-26T15:18:30.728084",
     "exception": false,
     "start_time": "2023-01-26T15:18:30.693463",
     "status": "completed"
    },
    "tags": []
   },
   "outputs": [
    {
     "data": {
      "text/plain": [
       "tensor([-0.9524,  0.3333,  1.6190])"
      ]
     },
     "execution_count": 9,
     "metadata": {},
     "output_type": "execute_result"
    }
   ],
   "source": [
    "torch.linalg.pinv(a) @ b"
   ]
  },
  {
   "cell_type": "code",
   "execution_count": 10,
   "id": "c75bbdde",
   "metadata": {
    "execution": {
     "iopub.execute_input": "2023-01-26T15:18:30.746491Z",
     "iopub.status.busy": "2023-01-26T15:18:30.745675Z",
     "iopub.status.idle": "2023-01-26T15:18:30.752848Z",
     "shell.execute_reply": "2023-01-26T15:18:30.751919Z"
    },
    "papermill": {
     "duration": 0.019019,
     "end_time": "2023-01-26T15:18:30.755057",
     "exception": false,
     "start_time": "2023-01-26T15:18:30.736038",
     "status": "completed"
    },
    "tags": []
   },
   "outputs": [
    {
     "data": {
      "text/plain": [
       "tensor([-0.9524,  0.3333,  1.6190])"
      ]
     },
     "execution_count": 10,
     "metadata": {},
     "output_type": "execute_result"
    }
   ],
   "source": [
    "x,residuals,rank,singular_values = result\n",
    "x"
   ]
  },
  {
   "cell_type": "code",
   "execution_count": 11,
   "id": "6497a424",
   "metadata": {
    "execution": {
     "iopub.execute_input": "2023-01-26T15:18:30.773525Z",
     "iopub.status.busy": "2023-01-26T15:18:30.772666Z",
     "iopub.status.idle": "2023-01-26T15:18:30.780184Z",
     "shell.execute_reply": "2023-01-26T15:18:30.779001Z"
    },
    "papermill": {
     "duration": 0.020064,
     "end_time": "2023-01-26T15:18:30.783024",
     "exception": false,
     "start_time": "2023-01-26T15:18:30.762960",
     "status": "completed"
    },
    "tags": []
   },
   "outputs": [
    {
     "data": {
      "text/plain": [
       "tensor([ 4.5714,  7.5714, 10.5714, 13.5714, 16.5714, 19.5714, 22.5714])"
      ]
     },
     "execution_count": 11,
     "metadata": {},
     "output_type": "execute_result"
    }
   ],
   "source": [
    "a.matmul(x)"
   ]
  },
  {
   "cell_type": "markdown",
   "id": "5398f920",
   "metadata": {
    "papermill": {
     "duration": 0.007719,
     "end_time": "2023-01-26T15:18:30.799235",
     "exception": false,
     "start_time": "2023-01-26T15:18:30.791516",
     "status": "completed"
    },
    "tags": []
   },
   "source": [
    "## Underdetermined System"
   ]
  },
  {
   "cell_type": "code",
   "execution_count": 12,
   "id": "7b9bfdbe",
   "metadata": {
    "execution": {
     "iopub.execute_input": "2023-01-26T15:18:30.818472Z",
     "iopub.status.busy": "2023-01-26T15:18:30.817079Z",
     "iopub.status.idle": "2023-01-26T15:18:30.833328Z",
     "shell.execute_reply": "2023-01-26T15:18:30.832087Z"
    },
    "papermill": {
     "duration": 0.02854,
     "end_time": "2023-01-26T15:18:30.835884",
     "exception": false,
     "start_time": "2023-01-26T15:18:30.807344",
     "status": "completed"
    },
    "tags": []
   },
   "outputs": [
    {
     "data": {
      "text/plain": [
       "torch.return_types.linalg_lstsq(\n",
       "solution=tensor([[-1.6111],\n",
       "        [ 0.2222],\n",
       "        [ 2.0556]]),\n",
       "residuals=tensor([]),\n",
       "rank=tensor(2),\n",
       "singular_values=tensor([9.5080, 0.7729]))"
      ]
     },
     "execution_count": 12,
     "metadata": {},
     "output_type": "execute_result"
    }
   ],
   "source": [
    "A = np.array([\n",
    "    [1,  2,  3],\n",
    "    [4,  5,  6],\n",
    "])\n",
    "\n",
    "b = np.array([\n",
    "    [5],\n",
    "    [7],\n",
    "])\n",
    "\n",
    "# With PyTorch\n",
    "a = torch.tensor(A, dtype=torch.float)\n",
    "b = torch.tensor(b, dtype=torch.float)\n",
    "\n",
    "result  = torch.linalg.lstsq(a, b, driver='gelsd') #.solution\n",
    "x,residuals,rank,singular_values = result\n",
    "result"
   ]
  },
  {
   "cell_type": "code",
   "execution_count": 13,
   "id": "3f7ded72",
   "metadata": {
    "execution": {
     "iopub.execute_input": "2023-01-26T15:18:30.855406Z",
     "iopub.status.busy": "2023-01-26T15:18:30.854063Z",
     "iopub.status.idle": "2023-01-26T15:18:30.862935Z",
     "shell.execute_reply": "2023-01-26T15:18:30.861442Z"
    },
    "papermill": {
     "duration": 0.021654,
     "end_time": "2023-01-26T15:18:30.865621",
     "exception": false,
     "start_time": "2023-01-26T15:18:30.843967",
     "status": "completed"
    },
    "tags": []
   },
   "outputs": [
    {
     "data": {
      "text/plain": [
       "tensor([[-1.6111],\n",
       "        [ 0.2222],\n",
       "        [ 2.0556]])"
      ]
     },
     "execution_count": 13,
     "metadata": {},
     "output_type": "execute_result"
    }
   ],
   "source": [
    "# Alternate method\n",
    "torch.linalg.pinv(a) @ b"
   ]
  },
  {
   "cell_type": "code",
   "execution_count": 14,
   "id": "057841e3",
   "metadata": {
    "execution": {
     "iopub.execute_input": "2023-01-26T15:18:30.885863Z",
     "iopub.status.busy": "2023-01-26T15:18:30.884418Z",
     "iopub.status.idle": "2023-01-26T15:18:30.893279Z",
     "shell.execute_reply": "2023-01-26T15:18:30.892317Z"
    },
    "papermill": {
     "duration": 0.021286,
     "end_time": "2023-01-26T15:18:30.895641",
     "exception": false,
     "start_time": "2023-01-26T15:18:30.874355",
     "status": "completed"
    },
    "tags": []
   },
   "outputs": [
    {
     "data": {
      "text/plain": [
       "tensor([[5.0000],\n",
       "        [7.0000]])"
      ]
     },
     "execution_count": 14,
     "metadata": {},
     "output_type": "execute_result"
    }
   ],
   "source": [
    "a.matmul(x)"
   ]
  },
  {
   "cell_type": "markdown",
   "id": "ad268bb9",
   "metadata": {
    "papermill": {
     "duration": 0.008263,
     "end_time": "2023-01-26T15:18:30.912474",
     "exception": false,
     "start_time": "2023-01-26T15:18:30.904211",
     "status": "completed"
    },
    "tags": []
   },
   "source": [
    "# Orthogonal Matching Pursuit"
   ]
  },
  {
   "cell_type": "raw",
   "id": "bc8e4a17",
   "metadata": {
    "papermill": {
     "duration": 0.008138,
     "end_time": "2023-01-26T15:18:30.929149",
     "exception": false,
     "start_time": "2023-01-26T15:18:30.921011",
     "status": "completed"
    },
    "tags": []
   },
   "source": [
    "Y=Ax"
   ]
  },
  {
   "cell_type": "code",
   "execution_count": 15,
   "id": "8af2f61d",
   "metadata": {
    "execution": {
     "iopub.execute_input": "2023-01-26T15:18:30.949097Z",
     "iopub.status.busy": "2023-01-26T15:18:30.947784Z",
     "iopub.status.idle": "2023-01-26T15:18:30.959642Z",
     "shell.execute_reply": "2023-01-26T15:18:30.958738Z"
    },
    "papermill": {
     "duration": 0.024081,
     "end_time": "2023-01-26T15:18:30.961889",
     "exception": false,
     "start_time": "2023-01-26T15:18:30.937808",
     "status": "completed"
    },
    "tags": []
   },
   "outputs": [
    {
     "data": {
      "text/plain": [
       "torch.Size([7])"
      ]
     },
     "execution_count": 15,
     "metadata": {},
     "output_type": "execute_result"
    }
   ],
   "source": [
    "A = np.array([\n",
    "    [1,  2,  3],\n",
    "    [4,  5,  6],\n",
    "    [7,  8,  9],\n",
    "    [10, 11, 12],\n",
    "    [13, 14, 15],\n",
    "    [16, 17, 18],\n",
    "    [19, 20, 21]\n",
    "])\n",
    "\n",
    "b = np.array([\n",
    "    [5],\n",
    "    [7],\n",
    "    [11],\n",
    "    [13],\n",
    "    [17],\n",
    "    [19],\n",
    "    [23]\n",
    "])\n",
    "b = np.array([5,7,11,13,17,19,23])\n",
    "A = torch.tensor(A, dtype=torch.float)\n",
    "Y = torch.tensor(b, dtype=torch.float)\n",
    "Y.shape"
   ]
  },
  {
   "cell_type": "code",
   "execution_count": 16,
   "id": "634d64c8",
   "metadata": {
    "execution": {
     "iopub.execute_input": "2023-01-26T15:18:30.982367Z",
     "iopub.status.busy": "2023-01-26T15:18:30.981535Z",
     "iopub.status.idle": "2023-01-26T15:18:30.988317Z",
     "shell.execute_reply": "2023-01-26T15:18:30.987455Z"
    },
    "papermill": {
     "duration": 0.020293,
     "end_time": "2023-01-26T15:18:30.991023",
     "exception": false,
     "start_time": "2023-01-26T15:18:30.970730",
     "status": "completed"
    },
    "tags": []
   },
   "outputs": [
    {
     "data": {
      "text/plain": [
       "False"
      ]
     },
     "execution_count": 16,
     "metadata": {},
     "output_type": "execute_result"
    }
   ],
   "source": [
    "M = A.shape[0]\n",
    "N = A.shape[1]\n",
    "\n",
    "M<N # Underdetermined Equations"
   ]
  },
  {
   "cell_type": "markdown",
   "id": "c7b1d6bb",
   "metadata": {
    "papermill": {
     "duration": 0.008754,
     "end_time": "2023-01-26T15:18:31.009065",
     "exception": false,
     "start_time": "2023-01-26T15:18:31.000311",
     "status": "completed"
    },
    "tags": []
   },
   "source": [
    "### Estimate 1st iterations"
   ]
  },
  {
   "cell_type": "raw",
   "id": "6ab1d035",
   "metadata": {
    "papermill": {
     "duration": 0.008525,
     "end_time": "2023-01-26T15:18:31.026878",
     "exception": false,
     "start_time": "2023-01-26T15:18:31.018353",
     "status": "completed"
    },
    "tags": []
   },
   "source": [
    "# x_bar = Saprse\n",
    "\n",
    "#1st iterations\n",
    "i(1) = argmax|A_transpose y| "
   ]
  },
  {
   "cell_type": "code",
   "execution_count": 17,
   "id": "da19c20f",
   "metadata": {
    "execution": {
     "iopub.execute_input": "2023-01-26T15:18:31.047793Z",
     "iopub.status.busy": "2023-01-26T15:18:31.046933Z",
     "iopub.status.idle": "2023-01-26T15:18:31.064219Z",
     "shell.execute_reply": "2023-01-26T15:18:31.062956Z"
    },
    "papermill": {
     "duration": 0.030794,
     "end_time": "2023-01-26T15:18:31.066712",
     "exception": false,
     "start_time": "2023-01-26T15:18:31.035918",
     "status": "completed"
    },
    "tags": []
   },
   "outputs": [
    {
     "name": "stdout",
     "output_type": "stream",
     "text": [
      "tensor([1202., 1297., 1392.])\n",
      "Max Iterations : 2\n",
      "Augmented Matrix  : tensor([ 3.,  6.,  9., 12., 15., 18., 21.])\n",
      "x1 : tensor(1.1048)\n",
      "Residue : tensor([ 1.6857,  0.3714,  1.0571, -0.2571,  0.4286, -0.8857, -0.2000])\n"
     ]
    }
   ],
   "source": [
    "print(A.transpose(0,1).matmul(Y))\n",
    "i1 = torch.argmax(A.transpose(0,1).matmul(Y))\n",
    "print('Max Iterations :',i1.item())\n",
    "\n",
    "# Augmented Matrix for 1st iterations\n",
    "A1 = A[:,i1.item()] # 5th columns\n",
    "print('Augmented Matrix  :',A1)\n",
    "\n",
    "# Estimate 1st iterations\n",
    "'''\n",
    "    Solve least squre \n",
    "    min(||y - A1 x1||^2)\n",
    "    x1= (A1^T A1)^-1 A1^T Y\n",
    "'''\n",
    "\n",
    "x1 = ((A1.transpose(-1, 0).matmul(A1))**(-1)) * (A1.transpose(-1, 0)@Y)\n",
    "print('x1 :',x1)\n",
    "\n",
    "# Residue after the ist iterations\n",
    "# r1 = Y-A1x1\n",
    "r1 = Y - A1.mul(x1)\n",
    "print('Residue :',r1)"
   ]
  },
  {
   "cell_type": "markdown",
   "id": "a9c79f5b",
   "metadata": {
    "papermill": {
     "duration": 0.008905,
     "end_time": "2023-01-26T15:18:31.084729",
     "exception": false,
     "start_time": "2023-01-26T15:18:31.075824",
     "status": "completed"
    },
    "tags": []
   },
   "source": [
    "## 2nd Iterations\n",
    "Find the projections of r1 i.e residue from the 1st iterations on each column of A"
   ]
  },
  {
   "cell_type": "code",
   "execution_count": 18,
   "id": "931b585d",
   "metadata": {
    "execution": {
     "iopub.execute_input": "2023-01-26T15:18:31.105803Z",
     "iopub.status.busy": "2023-01-26T15:18:31.104946Z",
     "iopub.status.idle": "2023-01-26T15:18:31.126474Z",
     "shell.execute_reply": "2023-01-26T15:18:31.125361Z"
    },
    "papermill": {
     "duration": 0.035073,
     "end_time": "2023-01-26T15:18:31.129051",
     "exception": false,
     "start_time": "2023-01-26T15:18:31.093978",
     "status": "completed"
    },
    "tags": []
   },
   "outputs": [
    {
     "name": "stdout",
     "output_type": "stream",
     "text": [
      "tensor([-4.4001e+00, -2.2001e+00, -7.0572e-05])\n",
      "Max Iterations : [2, 2]\n",
      "Max Iterations : [2]\n",
      "Augmented Matrix  :\n",
      " tensor([[ 3.],\n",
      "        [ 6.],\n",
      "        [ 9.],\n",
      "        [12.],\n",
      "        [15.],\n",
      "        [18.],\n",
      "        [21.]])\n",
      "x1 : tensor([1.1048])\n",
      "Residue :\n",
      " tensor([ 1.6857,  0.3714,  1.0571, -0.2571,  0.4286, -0.8857, -0.2000])\n"
     ]
    }
   ],
   "source": [
    "i2 = [i1.item()]\n",
    "temp =A.transpose(0,1)@r1\n",
    "print(temp)\n",
    "if len(temp.shape) == 1:\n",
    "    i2.append(torch.argmax(temp).item())\n",
    "else:\n",
    "    for k in range(temp.shape[0]):\n",
    "        i2.append(torch.argmax(temp[k]).item())     \n",
    "print('Max Iterations :',i2)\n",
    "i2 = list(set(i2))\n",
    "print('Max Iterations :',i2)\n",
    "\n",
    "# Augmented Matrix for 1st iterations\n",
    "A2 = A[:,list(set(i2))] # 2nd and 5the columns\n",
    "print('Augmented Matrix  :\\n',A2)\n",
    "\n",
    "# Estimate 2nd iterations\n",
    "'''\n",
    "    Solve least squre \n",
    "    min(||y - A2 x2||^2)\n",
    "    x2= (A2^T A2)^-1 A2^T y\n",
    "'''\n",
    "\n",
    "x2 = torch.inverse(A2.transpose(-1, 0).matmul(A2)) @ (A2.transpose(-1, 0)@Y)\n",
    "print('x1 :',x2)\n",
    "\n",
    "# Residue after the ist iterations\n",
    "# r2 = Y-A2x2\n",
    "r2 = Y - A2@x2\n",
    "print('Residue :\\n',r2)"
   ]
  },
  {
   "cell_type": "code",
   "execution_count": 19,
   "id": "cb396fae",
   "metadata": {
    "execution": {
     "iopub.execute_input": "2023-01-26T15:18:31.150012Z",
     "iopub.status.busy": "2023-01-26T15:18:31.149490Z",
     "iopub.status.idle": "2023-01-26T15:18:31.158934Z",
     "shell.execute_reply": "2023-01-26T15:18:31.157458Z"
    },
    "papermill": {
     "duration": 0.022918,
     "end_time": "2023-01-26T15:18:31.161508",
     "exception": false,
     "start_time": "2023-01-26T15:18:31.138590",
     "status": "completed"
    },
    "tags": []
   },
   "outputs": [
    {
     "data": {
      "text/plain": [
       "tensor([1, 0, 1, 0, 0, 0, 0], dtype=torch.int32)"
      ]
     },
     "execution_count": 19,
     "metadata": {},
     "output_type": "execute_result"
    }
   ],
   "source": [
    "r2.to(torch.int)"
   ]
  },
  {
   "cell_type": "code",
   "execution_count": 20,
   "id": "84c58712",
   "metadata": {
    "execution": {
     "iopub.execute_input": "2023-01-26T15:18:31.183874Z",
     "iopub.status.busy": "2023-01-26T15:18:31.182881Z",
     "iopub.status.idle": "2023-01-26T15:18:31.193352Z",
     "shell.execute_reply": "2023-01-26T15:18:31.192039Z"
    },
    "papermill": {
     "duration": 0.02426,
     "end_time": "2023-01-26T15:18:31.195957",
     "exception": false,
     "start_time": "2023-01-26T15:18:31.171697",
     "status": "completed"
    },
    "tags": []
   },
   "outputs": [
    {
     "data": {
      "text/plain": [
       "(torch.Size([4]), torch.Size([4, 6]))"
      ]
     },
     "execution_count": 20,
     "metadata": {},
     "output_type": "execute_result"
    }
   ],
   "source": [
    "y = torch.tensor([0,2,3,5], dtype=torch.float)\n",
    "a = torch.tensor([\n",
    "    [1, 0, 1, 0, 0, 1],\n",
    "    [0, 1, 1, 1, 0, 0],\n",
    "    [1, 0, 0, 1, 1, 0],\n",
    "    [0, 1, 0, 0, 1, 1]\n",
    "], dtype=torch.float)\n",
    "\n",
    "y.shape, a.shape"
   ]
  },
  {
   "cell_type": "markdown",
   "id": "c868fbed",
   "metadata": {
    "papermill": {
     "duration": 0.008985,
     "end_time": "2023-01-26T15:18:31.214456",
     "exception": false,
     "start_time": "2023-01-26T15:18:31.205471",
     "status": "completed"
    },
    "tags": []
   },
   "source": [
    "## OMP"
   ]
  },
  {
   "cell_type": "code",
   "execution_count": 21,
   "id": "c78b7324",
   "metadata": {
    "execution": {
     "iopub.execute_input": "2023-01-26T15:18:31.235821Z",
     "iopub.status.busy": "2023-01-26T15:18:31.235019Z",
     "iopub.status.idle": "2023-01-26T15:18:31.257494Z",
     "shell.execute_reply": "2023-01-26T15:18:31.256314Z"
    },
    "papermill": {
     "duration": 0.036167,
     "end_time": "2023-01-26T15:18:31.260003",
     "exception": false,
     "start_time": "2023-01-26T15:18:31.223836",
     "status": "completed"
    },
    "tags": []
   },
   "outputs": [
    {
     "name": "stdout",
     "output_type": "stream",
     "text": [
      "torch.Size([7, 3])\n",
      "torch.Size([7])\n",
      "torch.Size([3])\n",
      "[2]\n",
      "tensor([ 1.6857,  0.3714,  1.0571, -0.2571,  0.4286, -0.8857, -0.2000])\n",
      "torch.Size([3])\n",
      "[2]\n",
      "tensor([ 1.6857,  0.3714,  1.0571, -0.2571,  0.4286, -0.8857, -0.2000])\n",
      "torch.Size([3])\n",
      "[2]\n",
      "tensor([ 1.6857,  0.3714,  1.0571, -0.2571,  0.4286, -0.8857, -0.2000])\n",
      "torch.Size([3])\n",
      "[2]\n",
      "tensor([ 1.6857,  0.3714,  1.0571, -0.2571,  0.4286, -0.8857, -0.2000])\n",
      "torch.Size([3])\n",
      "[2]\n",
      "tensor([ 1.6857,  0.3714,  1.0571, -0.2571,  0.4286, -0.8857, -0.2000])\n",
      "torch.Size([3])\n",
      "[2]\n",
      "tensor([ 1.6857,  0.3714,  1.0571, -0.2571,  0.4286, -0.8857, -0.2000])\n"
     ]
    },
    {
     "data": {
      "text/plain": [
       "[0, 0, 1.1047619581222534]"
      ]
     },
     "execution_count": 21,
     "metadata": {},
     "output_type": "execute_result"
    }
   ],
   "source": [
    "'''\n",
    "    A = N X M Matrix\n",
    "    Y = 1 X N Matrix\n",
    "    K = Number of iterations\n",
    "\n",
    "'''\n",
    "def maxIndex(A,r, i):\n",
    "    temp =A.transpose(0,1)@r\n",
    "    #print(temp)\n",
    "    print(temp.shape)\n",
    "    if len(temp.shape) == 1:\n",
    "        i.append(torch.argmax(temp).item())\n",
    "    else:\n",
    "        for k in range(temp.shape[0]):\n",
    "            i.append(torch.argmax(temp[k]).item())              \n",
    "    return list(set(i))\n",
    "def iterations(A_bar,y):\n",
    "    temp = A_bar.transpose(-1, 0).matmul(A_bar)\n",
    "    #print(temp)\n",
    "    #print(len(temp.shape))\n",
    "    if len(temp.shape) == 0:\n",
    "        x_bar = (temp)**(-1) * (A_bar.transpose(-1, 0)@y)\n",
    "        x_bar\n",
    "    else:\n",
    "        x_bar = torch.inverse(temp) @ (A_bar.transpose(-1, 0)@y)\n",
    "        x_bar\n",
    "    return x_bar\n",
    "\n",
    "def OMP(A,Y,K):\n",
    "    r = Y\n",
    "    x = [0 for i in range(A.shape[1])]\n",
    "    k = 0\n",
    "    Index = []\n",
    "    while k <= K:                 #torch.argmax(r).item()>0.01:\n",
    "        # Max Index\n",
    "        Index = maxIndex(A,r,Index)\n",
    "\n",
    "        # Augmented Matrix\n",
    "        A_bar =A [:,Index]\n",
    "\n",
    "        # Least Square value\n",
    "        X_bar = iterations(A_bar,Y)\n",
    "\n",
    "        # Residue\n",
    "        r = Y - A_bar @ X_bar\n",
    "        print(Index)\n",
    "        #print(X_bar)\n",
    "        print(r)\n",
    "        k +=1\n",
    "        \n",
    "    for i in range(len(X_bar)):\n",
    "        x[Index[i]] = X_bar[i].item()\n",
    "    return x \n",
    "\n",
    "print(A.shape)\n",
    "print(Y.shape)\n",
    "OMP(A,Y, K = 5)   "
   ]
  },
  {
   "cell_type": "code",
   "execution_count": 22,
   "id": "41a313cf",
   "metadata": {
    "execution": {
     "iopub.execute_input": "2023-01-26T15:18:31.281155Z",
     "iopub.status.busy": "2023-01-26T15:18:31.280621Z",
     "iopub.status.idle": "2023-01-26T15:18:31.290850Z",
     "shell.execute_reply": "2023-01-26T15:18:31.289509Z"
    },
    "papermill": {
     "duration": 0.02374,
     "end_time": "2023-01-26T15:18:31.293392",
     "exception": false,
     "start_time": "2023-01-26T15:18:31.269652",
     "status": "completed"
    },
    "tags": []
   },
   "outputs": [
    {
     "name": "stdout",
     "output_type": "stream",
     "text": [
      "torch.Size([4, 6])\n",
      "torch.Size([4])\n",
      "torch.Size([6])\n"
     ]
    },
    {
     "data": {
      "text/plain": [
       "[4]"
      ]
     },
     "execution_count": 22,
     "metadata": {},
     "output_type": "execute_result"
    }
   ],
   "source": [
    "\n",
    "\n",
    "i =[]\n",
    "print(a.shape)\n",
    "print(y.shape)\n",
    "maxIndex(a,y, i)"
   ]
  },
  {
   "cell_type": "code",
   "execution_count": 23,
   "id": "619095f6",
   "metadata": {
    "execution": {
     "iopub.execute_input": "2023-01-26T15:18:31.315954Z",
     "iopub.status.busy": "2023-01-26T15:18:31.315463Z",
     "iopub.status.idle": "2023-01-26T15:18:31.325447Z",
     "shell.execute_reply": "2023-01-26T15:18:31.324210Z"
    },
    "papermill": {
     "duration": 0.024011,
     "end_time": "2023-01-26T15:18:31.327830",
     "exception": false,
     "start_time": "2023-01-26T15:18:31.303819",
     "status": "completed"
    },
    "tags": []
   },
   "outputs": [
    {
     "name": "stdout",
     "output_type": "stream",
     "text": [
      "torch.Size([7, 3])\n",
      "torch.Size([7])\n",
      "torch.Size([3])\n"
     ]
    },
    {
     "data": {
      "text/plain": [
       "[2]"
      ]
     },
     "execution_count": 23,
     "metadata": {},
     "output_type": "execute_result"
    }
   ],
   "source": [
    "print(A.shape)\n",
    "print(Y.shape)\n",
    "i =[]\n",
    "maxIndex(A, Y, i)"
   ]
  },
  {
   "cell_type": "code",
   "execution_count": 24,
   "id": "c3cd6751",
   "metadata": {
    "execution": {
     "iopub.execute_input": "2023-01-26T15:18:31.350703Z",
     "iopub.status.busy": "2023-01-26T15:18:31.350173Z",
     "iopub.status.idle": "2023-01-26T15:18:31.365845Z",
     "shell.execute_reply": "2023-01-26T15:18:31.364960Z"
    },
    "papermill": {
     "duration": 0.030047,
     "end_time": "2023-01-26T15:18:31.368062",
     "exception": false,
     "start_time": "2023-01-26T15:18:31.338015",
     "status": "completed"
    },
    "tags": []
   },
   "outputs": [
    {
     "name": "stdout",
     "output_type": "stream",
     "text": [
      "torch.Size([4, 6])\n",
      "torch.Size([4])\n",
      "torch.Size([6])\n",
      "[4]\n",
      "tensor([ 0.,  2., -1.,  1.])\n",
      "torch.Size([6])\n",
      "[1, 4]\n",
      "tensor([ 0.0000e+00, -2.3842e-07,  0.0000e+00,  0.0000e+00])\n",
      "torch.Size([6])\n",
      "[0, 1, 4]\n",
      "tensor([0., 0., 0., 0.])\n",
      "torch.Size([6])\n",
      "[0, 1, 4]\n",
      "tensor([0., 0., 0., 0.])\n",
      "torch.Size([6])\n",
      "[0, 1, 4]\n",
      "tensor([0., 0., 0., 0.])\n",
      "torch.Size([6])\n",
      "[0, 1, 4]\n",
      "tensor([0., 0., 0., 0.])\n"
     ]
    },
    {
     "data": {
      "text/plain": [
       "[0.0, 2.0, 0, 0, 3.0, 0]"
      ]
     },
     "execution_count": 24,
     "metadata": {},
     "output_type": "execute_result"
    }
   ],
   "source": [
    "print(a.shape)\n",
    "print(y.shape)\n",
    "OMP(a,y, 5)"
   ]
  }
 ],
 "metadata": {
  "kernelspec": {
   "display_name": "Python 3",
   "language": "python",
   "name": "python3"
  },
  "language_info": {
   "codemirror_mode": {
    "name": "ipython",
    "version": 3
   },
   "file_extension": ".py",
   "mimetype": "text/x-python",
   "name": "python",
   "nbconvert_exporter": "python",
   "pygments_lexer": "ipython3",
   "version": "3.7.12"
  },
  "papermill": {
   "default_parameters": {},
   "duration": 14.549774,
   "end_time": "2023-01-26T15:18:32.606175",
   "environment_variables": {},
   "exception": null,
   "input_path": "__notebook__.ipynb",
   "output_path": "__notebook__.ipynb",
   "parameters": {},
   "start_time": "2023-01-26T15:18:18.056401",
   "version": "2.3.4"
  }
 },
 "nbformat": 4,
 "nbformat_minor": 5
}
